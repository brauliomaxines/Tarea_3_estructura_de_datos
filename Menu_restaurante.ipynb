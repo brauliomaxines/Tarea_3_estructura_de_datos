{
  "nbformat": 4,
  "nbformat_minor": 0,
  "metadata": {
    "colab": {
      "name": "Menu_restaurante.ipynb",
      "provenance": [],
      "collapsed_sections": []
    },
    "kernelspec": {
      "name": "python3",
      "display_name": "Python 3"
    },
    "language_info": {
      "name": "python"
    }
  },
  "cells": [
    {
      "cell_type": "code",
      "metadata": {
        "colab": {
          "base_uri": "https://localhost:8080/"
        },
        "id": "fILOsX6KGl3W",
        "outputId": "557099fb-1609-4384-c595-97f518f05c93"
      },
      "source": [
        "menu_select = (\" mesa = 3 \", \" comensal = 2 \", \" entrada = ensalada verde \", \" medio = crema de zanahoria \",\" fuerte = filete \", \" adicionales = Filete termino medio, la ensalada sin ningun tipo de semilla, adereso Ranch \" )\n",
        "print(\"detalle: \\n\")\n",
        "for menu_select in menu_select:\n",
        "    print( menu_select )"
      ],
      "execution_count": 8,
      "outputs": [
        {
          "output_type": "stream",
          "name": "stdout",
          "text": [
            "detalle: \n",
            "\n",
            " mesa = 3 \n",
            " comensal = 2 \n",
            " entrada = ensalada verde \n",
            " medio = crema de zanahoria \n",
            " fuerte = filete \n",
            " adicionales = Filete termino medio, la ensalada sin ningun tipo de semilla, adereso Ranch \n"
          ]
        }
      ]
    }
  ]
}